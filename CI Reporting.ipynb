{
 "cells": [
  {
   "cell_type": "markdown",
   "metadata": {},
   "source": [
    "# Analysis of Claremont Independent  \n",
    "### Gigi Gedye & Eli Cohen\n"
   ]
  },
  {
   "cell_type": "code",
   "execution_count": 2,
   "metadata": {
    "collapsed": true
   },
   "outputs": [
    {
     "ename": "ModuleNotFoundError",
     "evalue": "No module named 'mozscape'",
     "output_type": "error",
     "traceback": [
      "\u001b[0;31m---------------------------------------------------------------------------\u001b[0m",
      "\u001b[0;31mModuleNotFoundError\u001b[0m                       Traceback (most recent call last)",
      "\u001b[0;32m<ipython-input-2-dc8a6a0bf712>\u001b[0m in \u001b[0;36m<module>\u001b[0;34m()\u001b[0m\n\u001b[1;32m      1\u001b[0m \u001b[0;32mimport\u001b[0m \u001b[0mpprint\u001b[0m\u001b[0;34m,\u001b[0m \u001b[0mos\u001b[0m\u001b[0;34m,\u001b[0m \u001b[0mcsv\u001b[0m\u001b[0;34m,\u001b[0m \u001b[0mjson\u001b[0m\u001b[0;34m,\u001b[0m \u001b[0mpickle\u001b[0m\u001b[0;34m,\u001b[0m \u001b[0murllib\u001b[0m\u001b[0;34m,\u001b[0m \u001b[0mhtml5lib\u001b[0m\u001b[0;34m\u001b[0m\u001b[0m\n\u001b[1;32m      2\u001b[0m \u001b[0;32mfrom\u001b[0m \u001b[0mbs4\u001b[0m \u001b[0;32mimport\u001b[0m \u001b[0mBeautifulSoup\u001b[0m\u001b[0;34m\u001b[0m\u001b[0m\n\u001b[0;32m----> 3\u001b[0;31m \u001b[0;32mfrom\u001b[0m \u001b[0mmozscape\u001b[0m \u001b[0;32mimport\u001b[0m \u001b[0mMozscape\u001b[0m\u001b[0;34m\u001b[0m\u001b[0m\n\u001b[0m\u001b[1;32m      4\u001b[0m \u001b[0mpp\u001b[0m \u001b[0;34m=\u001b[0m \u001b[0mpprint\u001b[0m\u001b[0;34m.\u001b[0m\u001b[0mPrettyPrinter\u001b[0m\u001b[0;34m(\u001b[0m\u001b[0mindent\u001b[0m\u001b[0;34m=\u001b[0m\u001b[0;36m4\u001b[0m\u001b[0;34m)\u001b[0m\u001b[0;34m\u001b[0m\u001b[0m\n",
      "\u001b[0;31mModuleNotFoundError\u001b[0m: No module named 'mozscape'"
     ]
    }
   ],
   "source": [
    "import pprint, os, csv, json, pickle, urllib, html5lib\n",
    "from bs4 import BeautifulSoup\n",
    "from mozscape import Mozscape\n",
    "pp = pprint.PrettyPrinter(indent=4)"
   ]
  },
  {
   "cell_type": "markdown",
   "metadata": {},
   "source": [
    "#### Find All Articles\n",
    "This functoin takes will create a Python List of every Claremont Independent Article. Each row will contain:\n",
    "* Article Number\n",
    "* Article Title\n",
    "* Article URL"
   ]
  },
  {
   "cell_type": "code",
   "execution_count": 1,
   "metadata": {},
   "outputs": [
    {
     "ename": "NameError",
     "evalue": "name 'urllib' is not defined",
     "output_type": "error",
     "traceback": [
      "\u001b[0;31m---------------------------------------------------------------------------\u001b[0m",
      "\u001b[0;31mNameError\u001b[0m                                 Traceback (most recent call last)",
      "\u001b[0;32m<ipython-input-1-96b63b4b7ed6>\u001b[0m in \u001b[0;36m<module>\u001b[0;34m()\u001b[0m\n\u001b[1;32m      3\u001b[0m \u001b[0;32mfor\u001b[0m \u001b[0mpage_num\u001b[0m \u001b[0;32min\u001b[0m \u001b[0mrange\u001b[0m\u001b[0;34m(\u001b[0m\u001b[0;36m1\u001b[0m\u001b[0;34m,\u001b[0m\u001b[0;36m68\u001b[0m\u001b[0;34m)\u001b[0m\u001b[0;34m:\u001b[0m\u001b[0;34m\u001b[0m\u001b[0m\n\u001b[1;32m      4\u001b[0m     \u001b[0mbase_url\u001b[0m \u001b[0;34m=\u001b[0m \u001b[0;34m'http://claremontindependent.com/page/%d/'\u001b[0m \u001b[0;34m%\u001b[0m \u001b[0mpage_num\u001b[0m\u001b[0;34m\u001b[0m\u001b[0m\n\u001b[0;32m----> 5\u001b[0;31m     \u001b[0mr\u001b[0m \u001b[0;34m=\u001b[0m \u001b[0murllib\u001b[0m\u001b[0;34m.\u001b[0m\u001b[0murlopen\u001b[0m\u001b[0;34m(\u001b[0m\u001b[0mbase_url\u001b[0m\u001b[0;34m)\u001b[0m\u001b[0;34m.\u001b[0m\u001b[0mread\u001b[0m\u001b[0;34m(\u001b[0m\u001b[0;34m)\u001b[0m\u001b[0;34m\u001b[0m\u001b[0m\n\u001b[0m\u001b[1;32m      6\u001b[0m     \u001b[0msoup\u001b[0m \u001b[0;34m=\u001b[0m \u001b[0mBeautifulSoup\u001b[0m\u001b[0;34m(\u001b[0m\u001b[0mr\u001b[0m\u001b[0;34m,\u001b[0m \u001b[0;34m\"html5lib\"\u001b[0m\u001b[0;34m)\u001b[0m\u001b[0;34m\u001b[0m\u001b[0m\n\u001b[1;32m      7\u001b[0m \u001b[0;34m\u001b[0m\u001b[0m\n",
      "\u001b[0;31mNameError\u001b[0m: name 'urllib' is not defined"
     ]
    }
   ],
   "source": [
    "article_list = []\n",
    "count = 0\n",
    "for page_num in range(1,68):\n",
    "    base_url = 'http://claremontindependent.com/page/%d/' % page_num\n",
    "    r = urllib.urlopen(base_url).read()\n",
    "    soup = BeautifulSoup(r, \"html5lib\")\n",
    "\n",
    "    for article in soup.find_all(\"article\"):\n",
    "        print(count)\n",
    "        entry = [count, article.div.h3.a.string, article.div.h3.a.get(\"href\")]\n",
    "        article_list.append(entry)\n",
    "        count += 1"
   ]
  },
  {
   "cell_type": "markdown",
   "metadata": {},
   "source": [
    "#### Get Article Backlink\n",
    "Using the Mozscape API, this function will create a python list of every webpage which \"backlinks\" to the webpage which we feed in."
   ]
  },
  {
   "cell_type": "code",
   "execution_count": 40,
   "metadata": {
    "collapsed": true
   },
   "outputs": [
    {
     "name": "stdout",
     "output_type": "stream",
     "text": [
      "[   0,\n",
      "    {   'lrid': 187638245382,\n",
      "        'lsrc': 85449392968,\n",
      "        'ltgt': 29944755253,\n",
      "        'luuu': 'claremontindependent.com/pitzer-college-ra-white-people-cant-wear-hoop-earrings/',\n",
      "        'upa': 30.40611267104551,\n",
      "        'uu': 'reclaimourrepublic.wordpress.com/2017/05/03/students-not-just-controversial-speakers-are-silenced-too-tufts-and-brandeis-college-promote-terrorist-propaganda/'}]\n",
      "[   1,\n",
      "    {   'lrid': 187638245122,\n",
      "        'lsrc': 23744551400,\n",
      "        'ltgt': 29944755253,\n",
      "        'luuu': 'claremontindependent.com/pitzer-college-ra-white-people-cant-wear-hoop-earrings/',\n",
      "        'upa': 46.703844681734324,\n",
      "        'uu': \"www.bing.com/knows/search?q=can't%20take%20my%20eyes%20off%20you&mkt=zh-cn\"}]\n",
      "[   2,\n",
      "    {   'lrid': 187638245379,\n",
      "        'lsrc': 83493391808,\n",
      "        'ltgt': 29944755253,\n",
      "        'luuu': 'claremontindependent.com/pitzer-college-ra-white-people-cant-wear-hoop-earrings/',\n",
      "        'upa': 50.95919805352494,\n",
      "        'uu': 'www.washingtonpost.com/news/grade-point/wp/2017/04/28/its-not-just-controversial-speakers-who-are-silenced-by-threats-students-like-me-are-too/'}]\n",
      "[   3,\n",
      "    {   'lrid': 187638245410,\n",
      "        'lsrc': 142527384244,\n",
      "        'ltgt': 29944755253,\n",
      "        'luuu': 'claremontindependent.com/pitzer-college-ra-white-people-cant-wear-hoop-earrings/',\n",
      "        'upa': 52.10195574102244,\n",
      "        'uu': 'www.dailymail.co.uk/news/article-4357420/White-LA-students-told-t-wear-hooped-earrings.html'}]\n",
      "[   4,\n",
      "    {   'lrid': 187638245124,\n",
      "        'lsrc': 26837148227,\n",
      "        'ltgt': 29944755253,\n",
      "        'luuu': 'claremontindependent.com/pitzer-college-ra-white-people-cant-wear-hoop-earrings/',\n",
      "        'upa': 40.27440902901921,\n",
      "        'uu': 'www.breitbart.com/tech/2017/03/17/pitzer-prof-student-paper-covering-ras-email-claiming-cultural-appropriation-is-dangerous-irresponsible/'}]\n",
      "[   5,\n",
      "    {   'lrid': 187638245366,\n",
      "        'lsrc': 61383866408,\n",
      "        'ltgt': 29944755253,\n",
      "        'luuu': 'claremontindependent.com/pitzer-college-ra-white-people-cant-wear-hoop-earrings/',\n",
      "        'upa': 50.03409103870736,\n",
      "        'uu': 'www.nationalreview.com/article/445611/campus-wide-email-tells-white-girls-stop-wearing-hoop-earrings-because-its-cultural'}]\n",
      "[   6,\n",
      "    {   'lrid': 187638245380,\n",
      "        'lsrc': 85305488509,\n",
      "        'ltgt': 29944755253,\n",
      "        'luuu': 'claremontindependent.com/pitzer-college-ra-white-people-cant-wear-hoop-earrings/',\n",
      "        'upa': 45.99175964375729,\n",
      "        'uu': 'www.wnd.com/2017/03/latina-students-white-girl-take-off-your-hoops/'}]\n",
      "[   7,\n",
      "    {   'lrid': 187638245372,\n",
      "        'lsrc': 68710344724,\n",
      "        'ltgt': 29944755253,\n",
      "        'luuu': 'claremontindependent.com/pitzer-college-ra-white-people-cant-wear-hoop-earrings/',\n",
      "        'upa': 39.74977769333279,\n",
      "        'uu': 'www.refinery29.com/2017/08/169562/hoop-earrings-trend-history'}]\n",
      "[   8,\n",
      "    {   'lrid': 187638245346,\n",
      "        'lsrc': 32719894752,\n",
      "        'ltgt': 29944755253,\n",
      "        'luuu': 'claremontindependent.com/pitzer-college-ra-white-people-cant-wear-hoop-earrings/',\n",
      "        'upa': 51.51848347329706,\n",
      "        'uu': 'dailycaller.com/2017/03/08/latina-students-at-absurdly-expensive-college-white-girls-must-stop-wearing-hoop-earrings-now/'}]\n",
      "[   9,\n",
      "    {   'lrid': 187638245120,\n",
      "        'lsrc': 18675581056,\n",
      "        'ltgt': 29944755253,\n",
      "        'luuu': 'claremontindependent.com/pitzer-college-ra-white-people-cant-wear-hoop-earrings/',\n",
      "        'upa': 35.51357206639568,\n",
      "        'uu': 'www.americanthinker.com/blog/2017/03/pitzer_college_is_failing_its_students.html'}]\n",
      "[   10,\n",
      "    {   'lrid': 187638245119,\n",
      "        'lsrc': 18675361647,\n",
      "        'ltgt': 29944755253,\n",
      "        'luuu': 'claremontindependent.com/pitzer-college-ra-white-people-cant-wear-hoop-earrings/',\n",
      "        'upa': 26.34289026206069,\n",
      "        'uu': 'admin.americanthinker.com/blog/2017/03/pitzer_college_is_failing_its_students.html'}]\n",
      "[   11,\n",
      "    {   'lrid': 187638245353,\n",
      "        'lsrc': 39418587401,\n",
      "        'ltgt': 29944755253,\n",
      "        'luuu': 'claremontindependent.com/pitzer-college-ra-white-people-cant-wear-hoop-earrings/',\n",
      "        'upa': 28.971126198746592,\n",
      "        'uu': 'www.freerepublic.com/focus/f-news/3542076/posts'}]\n",
      "[   12,\n",
      "    {   'lrid': 187638245356,\n",
      "        'lsrc': 48023163106,\n",
      "        'ltgt': 29944755253,\n",
      "        'luuu': 'claremontindependent.com/pitzer-college-ra-white-people-cant-wear-hoop-earrings/',\n",
      "        'upa': 33.61777665271242,\n",
      "        'uu': 'ijr.com/2017/03/821523-white-girl-take-off-the-hoops-new-claims-of-racism-will-have-students-googling-before-they-can-get-dressed/'}]\n",
      "[   13,\n",
      "    {   'lrid': 187638245347,\n",
      "        'lsrc': 32804799146,\n",
      "        'ltgt': 29944755253,\n",
      "        'luuu': 'claremontindependent.com/pitzer-college-ra-white-people-cant-wear-hoop-earrings/',\n",
      "        'upa': 42.07551447635331,\n",
      "        'uu': 'www.dailywire.com/news/14236/racist-pitzer-college-students-just-told-white-elliott-hamilton'}]\n",
      "[   14,\n",
      "    {   'lrid': 187638245348,\n",
      "        'lsrc': 32804799286,\n",
      "        'ltgt': 29944755253,\n",
      "        'luuu': 'claremontindependent.com/pitzer-college-ra-white-people-cant-wear-hoop-earrings/',\n",
      "        'upa': 33.76983521056884,\n",
      "        'uu': 'www.dailywire.com/news/14389/pitzer-college-president-refuses-condemn-anti-elliott-hamilton'}]\n",
      "[   15,\n",
      "    {   'lrid': 187638245383,\n",
      "        'lsrc': 85905128092,\n",
      "        'ltgt': 29944755253,\n",
      "        'luuu': 'claremontindependent.com/pitzer-college-ra-white-people-cant-wear-hoop-earrings/',\n",
      "        'upa': 27.222922684630618,\n",
      "        'uu': 'www.wusa9.com/news/do-hoop-earrings-belong-to-women-of-color/423318654'}]\n",
      "[   16,\n",
      "    {   'lrid': 187638245118,\n",
      "        'lsrc': 16039751309,\n",
      "        'ltgt': 29944755253,\n",
      "        'luuu': 'claremontindependent.com/pitzer-college-ra-white-people-cant-wear-hoop-earrings/',\n",
      "        'upa': 33.45254753573821,\n",
      "        'uu': 'www.abc10.com/news/do-hoop-earrings-belong-to-women-of-color/422942293'}]\n",
      "[   17,\n",
      "    {   'lrid': 187638245126,\n",
      "        'lsrc': 27898019798,\n",
      "        'ltgt': 29944755253,\n",
      "        'luuu': 'claremontindependent.com/pitzer-college-ra-white-people-cant-wear-hoop-earrings/',\n",
      "        'upa': 33.069842680931,\n",
      "        'uu': 'cnews.canoe.com/CNEWS/World/2017/03/09/22709436.html?cid=rssnewsworld'}]\n",
      "[   18,\n",
      "    {   'lrid': 187638245125,\n",
      "        'lsrc': 27898019797,\n",
      "        'ltgt': 29944755253,\n",
      "        'luuu': 'claremontindependent.com/pitzer-college-ra-white-people-cant-wear-hoop-earrings/',\n",
      "        'upa': 30.518860971965854,\n",
      "        'uu': 'cnews.canoe.com/CNEWS/World/2017/03/09/22709436.html'}]\n",
      "[   19,\n",
      "    {   'lrid': 187638245350,\n",
      "        'lsrc': 37107503146,\n",
      "        'ltgt': 29944755253,\n",
      "        'luuu': 'claremontindependent.com/pitzer-college-ra-white-people-cant-wear-hoop-earrings/',\n",
      "        'upa': 28.20113167098891,\n",
      "        'uu': 'web1.exactseek.com/webclient/?query=Elections&start=160&offset=3180&lang=ENG'}]\n",
      "[   20,\n",
      "    {   'lrid': 187638245351,\n",
      "        'lsrc': 37107503177,\n",
      "        'ltgt': 29944755253,\n",
      "        'luuu': 'claremontindependent.com/pitzer-college-ra-white-people-cant-wear-hoop-earrings/',\n",
      "        'upa': 28.14387444046044,\n",
      "        'uu': 'web1.exactseek.com/webclient/?query=Elections&start=189&offset=3760&lang=ENG'}]\n",
      "[   21,\n",
      "    {   'lrid': 187638245359,\n",
      "        'lsrc': 54824561013,\n",
      "        'ltgt': 29944755253,\n",
      "        'luuu': 'claremontindependent.com/pitzer-college-ra-white-people-cant-wear-hoop-earrings/',\n",
      "        'upa': 25.11568514888551,\n",
      "        'uu': 'latina.com/lifestyle/our-issues/white-girl-take-off-your-hoops-mural'}]\n",
      "[   22,\n",
      "    {   'lrid': 187638245387,\n",
      "        'lsrc': 126995292722,\n",
      "        'ltgt': 29944755253,\n",
      "        'luuu': 'claremontindependent.com/pitzer-college-ra-white-people-cant-wear-hoop-earrings/',\n",
      "        'upa': 36.85838824486352,\n",
      "        'uu': 'www.campusreform.org/?ID=8939'}]\n",
      "[   23,\n",
      "    {   'lrid': 187638245376,\n",
      "        'lsrc': 77379759419,\n",
      "        'ltgt': 29944755253,\n",
      "        'luuu': 'claremontindependent.com/pitzer-college-ra-white-people-cant-wear-hoop-earrings/',\n",
      "        'upa': 33.56347055786709,\n",
      "        'uu': 'www.thecollegefix.com/post/31555/'}]\n",
      "[   24,\n",
      "    {   'lrid': 187638245377,\n",
      "        'lsrc': 77379759766,\n",
      "        'ltgt': 29944755253,\n",
      "        'luuu': 'claremontindependent.com/pitzer-college-ra-white-people-cant-wear-hoop-earrings/',\n",
      "        'upa': 24.989186816750234,\n",
      "        'uu': 'www.thecollegefix.com/post/31891/'}]\n"
     ]
    }
   ],
   "source": [
    "client = Mozscape('mozscape-53cf2bb871', '694d6aba7224dc5fd11b6ed7c73e20e1')\n",
    "backlinks = client.links('http://claremontindependent.com/pitzer-college-ra-white-people-cant-wear-hoop-earrings/', \n",
    "            scope ='page_to_page',\n",
    "            sort ='domain_authority',\n",
    "            filters = ['external'],\n",
    "            linkCols = 0,\n",
    "            targetCols = Mozscape.UMCols.url)\n",
    "\n",
    "for num in range(len(backlinks)):\n",
    "    pp.pprint([num,backlinks[num]])"
   ]
  },
  {
   "cell_type": "code",
   "execution_count": 31,
   "metadata": {
    "collapsed": true
   },
   "outputs": [],
   "source": [
    "def read_csv():\n",
    "    \n",
    "    with open('CI-Articles.csv', 'rb') as csvfile:\n",
    "        article_list = csv.reader(csvfile)\n",
    "        backlinks = get_article_backlinks(article_list[1][2])\n",
    "        print(backlinks)\n",
    "        print(\"hello\")\n",
    "        \n",
    "    return(\"hello\")    \n",
    "        \n",
    "#         corpus = []\n",
    "# \t\tfor article in article_list:\n",
    "# \t\t\ttitle = article[1]\n",
    "# \t\t\tbody = get_article_text(article[2])\n",
    "# \t\t\tcorpus.append([article[0], article[1],body])\n",
    "# \t\t\tprint(article[0])\n",
    "# \t\t\t# backlinks = get_article_backlinks(article[2])"
   ]
  },
  {
   "cell_type": "code",
   "execution_count": 18,
   "metadata": {},
   "outputs": [
    {
     "name": "stdout",
     "output_type": "stream",
     "text": [
      "a\n"
     ]
    }
   ],
   "source": [
    "print(\"a\")"
   ]
  },
  {
   "cell_type": "code",
   "execution_count": null,
   "metadata": {
    "collapsed": true
   },
   "outputs": [],
   "source": []
  }
 ],
 "metadata": {
  "kernelspec": {
   "display_name": "Python 3",
   "language": "python",
   "name": "python3"
  },
  "language_info": {
   "codemirror_mode": {
    "name": "ipython",
    "version": 3
   },
   "file_extension": ".py",
   "mimetype": "text/x-python",
   "name": "python",
   "nbconvert_exporter": "python",
   "pygments_lexer": "ipython3",
   "version": "3.6.3"
  }
 },
 "nbformat": 4,
 "nbformat_minor": 2
}
