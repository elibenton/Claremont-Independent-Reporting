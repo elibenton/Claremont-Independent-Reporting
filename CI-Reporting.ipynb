{
 "cells": [
  {
   "cell_type": "markdown",
   "metadata": {},
   "source": [
    "# Analysis of Claremont Independent  \n",
    "### Gigi Gedye & Eli Cohen\n"
   ]
  },
  {
   "cell_type": "code",
   "execution_count": 4,
   "metadata": {},
   "outputs": [],
   "source": [
    "import pprint, os, csv, json, pickle, requests, html5lib\n",
    "from requests.auth import HTTPBasicAuth\n",
    "from bs4 import BeautifulSoup\n",
    "from mozscape import Mozscape\n",
    "pp = pprint.PrettyPrinter(indent=4)"
   ]
  },
  {
   "cell_type": "markdown",
   "metadata": {},
   "source": [
    "#### Find All Articles\n",
    "#### ! SKIP UNLESS UPDATING LIST !\n",
    "This functoin takes will create a Python Dictionary of every Claremont Independent Article on their website.\n",
    "The dictionary key is the article title, and the value is a list of the following:\n",
    "* Date Published\n",
    "* Author\n",
    "* URL"
   ]
  },
  {
   "cell_type": "code",
   "execution_count": null,
   "metadata": {},
   "outputs": [],
   "source": [
    "articles = {}\n",
    "for page_num in range(1,68):\n",
    "    base_url = 'http://claremontindependent.com/page/%d/' % page_num\n",
    "    r = requests.get(base_url)\n",
    "    soup = BeautifulSoup(r.text, \"html5lib\")\n",
    "\n",
    "    for article in soup.find_all(\"article\"):\n",
    "        title = article.div.h3.a.string\n",
    "        date = article.find('time').string\n",
    "        author = article.find('em').string\n",
    "        url = article.div.h3.a.get(\"href\")\n",
    "        \n",
    "        entry = [date, author, url]\n",
    "        articles[title] = entry\n",
    "        print(entry)\n",
    "    \n",
    "with open('articles.json', 'w') as f:\n",
    "    json.dump(articles, f)"
   ]
  },
  {
   "cell_type": "markdown",
   "metadata": {},
   "source": [
    "#### Create Text Corpus\n",
    "#### ! SKIP UNLESS UPDATING LIST !\n",
    "Take list of articles, and retrieve article text from every page"
   ]
  },
  {
   "cell_type": "code",
   "execution_count": 12,
   "metadata": {},
   "outputs": [],
   "source": [
    "with open('articles.json', 'r') as f:\n",
    "    articles = json.load(f)\n",
    "    \n",
    "corpus = []\n",
    "for article in articles: \n",
    "    r = requests.get(articles.get(article)[2])\n",
    "    soup = BeautifulSoup(r.text, \"html5lib\")\n",
    "    body = soup.find(attrs={\"class\": \"entry-content\"})\n",
    "    paragraphs = body.get_text()\n",
    "    text, seperator, attribution = paragraphs.partition(\"\\n\\n\")\n",
    "    \n",
    "    corpus.append(text)\n",
    "\n",
    "with open('corpus.json','w') as f:\n",
    "    json.dump(corpus, f)"
   ]
  },
  {
   "cell_type": "markdown",
   "metadata": {},
   "source": [
    "#### Get Article Backlinks\n",
    "Using the Mozscape API, this function will create a python list of every webpage which \"backlinks\" to the webpage which we feed in."
   ]
  },
  {
   "cell_type": "code",
   "execution_count": 5,
   "metadata": {},
   "outputs": [
    {
     "ename": "TypeError",
     "evalue": "links() got an unexpected keyword argument 'limit'",
     "output_type": "error",
     "traceback": [
      "\u001b[0;31m---------------------------------------------------------------------------\u001b[0m",
      "\u001b[0;31mTypeError\u001b[0m                                 Traceback (most recent call last)",
      "\u001b[0;32m<ipython-input-5-f794bb17ec53>\u001b[0m in \u001b[0;36m<module>\u001b[0;34m()\u001b[0m\n\u001b[1;32m     10\u001b[0m                                \u001b[0mlimit\u001b[0m \u001b[0;34m=\u001b[0m \u001b[0;36m25\u001b[0m\u001b[0;34m,\u001b[0m\u001b[0;34m\u001b[0m\u001b[0m\n\u001b[1;32m     11\u001b[0m                                \u001b[0moffset\u001b[0m \u001b[0;34m=\u001b[0m \u001b[0;36m25\u001b[0m\u001b[0;34m,\u001b[0m\u001b[0;34m\u001b[0m\u001b[0m\n\u001b[0;32m---> 12\u001b[0;31m                                sourceCols = 5)\n\u001b[0m\u001b[1;32m     13\u001b[0m \u001b[0;34m\u001b[0m\u001b[0m\n\u001b[1;32m     14\u001b[0m     \u001b[0;32mif\u001b[0m \u001b[0mlen\u001b[0m\u001b[0;34m(\u001b[0m\u001b[0mlinks_info\u001b[0m\u001b[0;34m)\u001b[0m \u001b[0;34m!=\u001b[0m \u001b[0;36m0\u001b[0m\u001b[0;34m:\u001b[0m\u001b[0;34m\u001b[0m\u001b[0m\n",
      "\u001b[0;31mTypeError\u001b[0m: links() got an unexpected keyword argument 'limit'"
     ]
    }
   ],
   "source": [
    "with open('articles.json', 'r') as f:\n",
    "    articles_dict = json.load(f)\n",
    "\n",
    "client = Mozscape('mozscape-14bcb34ac8', '73bfb82e39e7868337668d339b61b805')\n",
    "for key, value in articles_dict.items(): \n",
    "    links_info = client.links( value[2],\n",
    "                               scope = 'page_to_page',\n",
    "                               sort = 'domains_linking_page',\n",
    "                               filters = ['external'],\n",
    "                               limit = 25,\n",
    "                               offset = 25,\n",
    "                               sourceCols = 5)\n",
    "    \n",
    "    if len(links_info) != 0:\n",
    "        pp.pprint(links_info)\n",
    "    \n",
    "with open('articles_dict.json', 'w') as f:\n",
    "    json.dump(articles_dict, f)"
   ]
  },
  {
   "cell_type": "code",
   "execution_count": null,
   "metadata": {},
   "outputs": [],
   "source": []
  }
 ],
 "metadata": {
  "kernelspec": {
   "display_name": "Python 3",
   "language": "python",
   "name": "python3"
  },
  "language_info": {
   "codemirror_mode": {
    "name": "ipython",
    "version": 3
   },
   "file_extension": ".py",
   "mimetype": "text/x-python",
   "name": "python",
   "nbconvert_exporter": "python",
   "pygments_lexer": "ipython3",
   "version": "3.6.4"
  }
 },
 "nbformat": 4,
 "nbformat_minor": 2
}
